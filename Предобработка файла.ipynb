{
 "cells": [
  {
   "cell_type": "code",
   "execution_count": 2,
   "metadata": {},
   "outputs": [],
   "source": [
    "import pandas as pd\n",
    "import numpy as np"
   ]
  },
  {
   "cell_type": "code",
   "execution_count": 3,
   "metadata": {},
   "outputs": [],
   "source": [
    "df1 = pd.read_csv(\"data.csv\")"
   ]
  },
  {
   "cell_type": "code",
   "execution_count": 4,
   "metadata": {},
   "outputs": [
    {
     "data": {
      "text/html": [
       "<div>\n",
       "<style scoped>\n",
       "    .dataframe tbody tr th:only-of-type {\n",
       "        vertical-align: middle;\n",
       "    }\n",
       "\n",
       "    .dataframe tbody tr th {\n",
       "        vertical-align: top;\n",
       "    }\n",
       "\n",
       "    .dataframe thead th {\n",
       "        text-align: right;\n",
       "    }\n",
       "</style>\n",
       "<table border=\"1\" class=\"dataframe\">\n",
       "  <thead>\n",
       "    <tr style=\"text-align: right;\">\n",
       "      <th></th>\n",
       "      <th>status</th>\n",
       "      <th>private pool</th>\n",
       "      <th>propertyType</th>\n",
       "      <th>street</th>\n",
       "      <th>baths</th>\n",
       "      <th>homeFacts</th>\n",
       "      <th>fireplace</th>\n",
       "      <th>city</th>\n",
       "      <th>schools</th>\n",
       "      <th>sqft</th>\n",
       "      <th>zipcode</th>\n",
       "      <th>beds</th>\n",
       "      <th>state</th>\n",
       "      <th>stories</th>\n",
       "      <th>mls-id</th>\n",
       "      <th>PrivatePool</th>\n",
       "      <th>MlsId</th>\n",
       "      <th>target</th>\n",
       "    </tr>\n",
       "  </thead>\n",
       "  <tbody>\n",
       "    <tr>\n",
       "      <th>0</th>\n",
       "      <td>Active</td>\n",
       "      <td>NaN</td>\n",
       "      <td>Single Family Home</td>\n",
       "      <td>240 Heather Ln</td>\n",
       "      <td>3.5</td>\n",
       "      <td>{'atAGlanceFacts': [{'factValue': '2019', 'fac...</td>\n",
       "      <td>Gas Logs</td>\n",
       "      <td>Southern Pines</td>\n",
       "      <td>[{'rating': ['4', '4', '7', 'NR', '4', '7', 'N...</td>\n",
       "      <td>2900</td>\n",
       "      <td>28387</td>\n",
       "      <td>4</td>\n",
       "      <td>NC</td>\n",
       "      <td>NaN</td>\n",
       "      <td>NaN</td>\n",
       "      <td>NaN</td>\n",
       "      <td>611019</td>\n",
       "      <td>$418,000</td>\n",
       "    </tr>\n",
       "    <tr>\n",
       "      <th>1</th>\n",
       "      <td>for sale</td>\n",
       "      <td>NaN</td>\n",
       "      <td>single-family home</td>\n",
       "      <td>12911 E Heroy Ave</td>\n",
       "      <td>3 Baths</td>\n",
       "      <td>{'atAGlanceFacts': [{'factValue': '2019', 'fac...</td>\n",
       "      <td>NaN</td>\n",
       "      <td>Spokane Valley</td>\n",
       "      <td>[{'rating': ['4/10', 'None/10', '4/10'], 'data...</td>\n",
       "      <td>1,947 sqft</td>\n",
       "      <td>99216</td>\n",
       "      <td>3 Beds</td>\n",
       "      <td>WA</td>\n",
       "      <td>2.0</td>\n",
       "      <td>NaN</td>\n",
       "      <td>NaN</td>\n",
       "      <td>201916904</td>\n",
       "      <td>$310,000</td>\n",
       "    </tr>\n",
       "    <tr>\n",
       "      <th>2</th>\n",
       "      <td>for sale</td>\n",
       "      <td>NaN</td>\n",
       "      <td>single-family home</td>\n",
       "      <td>2005 Westridge Rd</td>\n",
       "      <td>2 Baths</td>\n",
       "      <td>{'atAGlanceFacts': [{'factValue': '1961', 'fac...</td>\n",
       "      <td>yes</td>\n",
       "      <td>Los Angeles</td>\n",
       "      <td>[{'rating': ['8/10', '4/10', '8/10'], 'data': ...</td>\n",
       "      <td>3,000 sqft</td>\n",
       "      <td>90049</td>\n",
       "      <td>3 Beds</td>\n",
       "      <td>CA</td>\n",
       "      <td>1.0</td>\n",
       "      <td>NaN</td>\n",
       "      <td>yes</td>\n",
       "      <td>FR19221027</td>\n",
       "      <td>$2,895,000</td>\n",
       "    </tr>\n",
       "    <tr>\n",
       "      <th>3</th>\n",
       "      <td>for sale</td>\n",
       "      <td>NaN</td>\n",
       "      <td>single-family home</td>\n",
       "      <td>4311 Livingston Ave</td>\n",
       "      <td>8 Baths</td>\n",
       "      <td>{'atAGlanceFacts': [{'factValue': '2006', 'fac...</td>\n",
       "      <td>yes</td>\n",
       "      <td>Dallas</td>\n",
       "      <td>[{'rating': ['9/10', '9/10', '10/10', '9/10'],...</td>\n",
       "      <td>6,457 sqft</td>\n",
       "      <td>75205</td>\n",
       "      <td>5 Beds</td>\n",
       "      <td>TX</td>\n",
       "      <td>3.0</td>\n",
       "      <td>NaN</td>\n",
       "      <td>NaN</td>\n",
       "      <td>14191809</td>\n",
       "      <td>$2,395,000</td>\n",
       "    </tr>\n",
       "    <tr>\n",
       "      <th>4</th>\n",
       "      <td>for sale</td>\n",
       "      <td>NaN</td>\n",
       "      <td>lot/land</td>\n",
       "      <td>1524 Kiscoe St</td>\n",
       "      <td>NaN</td>\n",
       "      <td>{'atAGlanceFacts': [{'factValue': '', 'factLab...</td>\n",
       "      <td>NaN</td>\n",
       "      <td>Palm Bay</td>\n",
       "      <td>[{'rating': ['4/10', '5/10', '5/10'], 'data': ...</td>\n",
       "      <td>NaN</td>\n",
       "      <td>32908</td>\n",
       "      <td>NaN</td>\n",
       "      <td>FL</td>\n",
       "      <td>NaN</td>\n",
       "      <td>NaN</td>\n",
       "      <td>NaN</td>\n",
       "      <td>861745</td>\n",
       "      <td>$5,000</td>\n",
       "    </tr>\n",
       "  </tbody>\n",
       "</table>\n",
       "</div>"
      ],
      "text/plain": [
       "     status private pool        propertyType               street    baths  \\\n",
       "0    Active          NaN  Single Family Home       240 Heather Ln      3.5   \n",
       "1  for sale          NaN  single-family home    12911 E Heroy Ave  3 Baths   \n",
       "2  for sale          NaN  single-family home    2005 Westridge Rd  2 Baths   \n",
       "3  for sale          NaN  single-family home  4311 Livingston Ave  8 Baths   \n",
       "4  for sale          NaN            lot/land       1524 Kiscoe St      NaN   \n",
       "\n",
       "                                           homeFacts fireplace  \\\n",
       "0  {'atAGlanceFacts': [{'factValue': '2019', 'fac...  Gas Logs   \n",
       "1  {'atAGlanceFacts': [{'factValue': '2019', 'fac...       NaN   \n",
       "2  {'atAGlanceFacts': [{'factValue': '1961', 'fac...       yes   \n",
       "3  {'atAGlanceFacts': [{'factValue': '2006', 'fac...       yes   \n",
       "4  {'atAGlanceFacts': [{'factValue': '', 'factLab...       NaN   \n",
       "\n",
       "             city                                            schools  \\\n",
       "0  Southern Pines  [{'rating': ['4', '4', '7', 'NR', '4', '7', 'N...   \n",
       "1  Spokane Valley  [{'rating': ['4/10', 'None/10', '4/10'], 'data...   \n",
       "2     Los Angeles  [{'rating': ['8/10', '4/10', '8/10'], 'data': ...   \n",
       "3          Dallas  [{'rating': ['9/10', '9/10', '10/10', '9/10'],...   \n",
       "4        Palm Bay  [{'rating': ['4/10', '5/10', '5/10'], 'data': ...   \n",
       "\n",
       "         sqft zipcode    beds state stories mls-id PrivatePool       MlsId  \\\n",
       "0        2900   28387       4    NC     NaN    NaN         NaN      611019   \n",
       "1  1,947 sqft   99216  3 Beds    WA     2.0    NaN         NaN   201916904   \n",
       "2  3,000 sqft   90049  3 Beds    CA     1.0    NaN         yes  FR19221027   \n",
       "3  6,457 sqft   75205  5 Beds    TX     3.0    NaN         NaN    14191809   \n",
       "4         NaN   32908     NaN    FL     NaN    NaN         NaN      861745   \n",
       "\n",
       "       target  \n",
       "0    $418,000  \n",
       "1    $310,000  \n",
       "2  $2,895,000  \n",
       "3  $2,395,000  \n",
       "4      $5,000  "
      ]
     },
     "execution_count": 4,
     "metadata": {},
     "output_type": "execute_result"
    }
   ],
   "source": [
    "df1.head()"
   ]
  },
  {
   "cell_type": "code",
   "execution_count": 5,
   "metadata": {},
   "outputs": [
    {
     "name": "stdout",
     "output_type": "stream",
     "text": [
      "<class 'pandas.core.frame.DataFrame'>\n",
      "RangeIndex: 377185 entries, 0 to 377184\n",
      "Data columns (total 18 columns):\n",
      " #   Column        Non-Null Count   Dtype \n",
      "---  ------        --------------   ----- \n",
      " 0   status        337267 non-null  object\n",
      " 1   private pool  4181 non-null    object\n",
      " 2   propertyType  342452 non-null  object\n",
      " 3   street        377183 non-null  object\n",
      " 4   baths         270847 non-null  object\n",
      " 5   homeFacts     377185 non-null  object\n",
      " 6   fireplace     103115 non-null  object\n",
      " 7   city          377151 non-null  object\n",
      " 8   schools       377185 non-null  object\n",
      " 9   sqft          336608 non-null  object\n",
      " 10  zipcode       377185 non-null  object\n",
      " 11  beds          285903 non-null  object\n",
      " 12  state         377185 non-null  object\n",
      " 13  stories       226470 non-null  object\n",
      " 14  mls-id        24942 non-null   object\n",
      " 15  PrivatePool   40311 non-null   object\n",
      " 16  MlsId         310305 non-null  object\n",
      " 17  target        374704 non-null  object\n",
      "dtypes: object(18)\n",
      "memory usage: 51.8+ MB\n"
     ]
    }
   ],
   "source": [
    "df1.info()"
   ]
  },
  {
   "cell_type": "code",
   "execution_count": null,
   "metadata": {},
   "outputs": [],
   "source": [
    "# Рассмотрим какие данные находятся в колонках \n",
    "\n",
    "#colname = 'propertyType2'\n",
    "#colname ='street'\n",
    "#colname ='baths'\n",
    "#colname ='fireplace' # ???\n",
    "#colname ='homeFacts'\n",
    "#colname ='schools'\n",
    "#colname ='sqft'\n",
    "#colname ='beds'\n",
    "#colname ='PrivatePool'\n",
    "#colname ='private pool'\n",
    "#colname ='stories' # ????\n",
    "#colname ='MlsId'\n",
    "#colname ='target2'\n",
    "#colname ='status2'\n",
    "#colname = 'propertyType2'\n",
    "colname = 'Pricesqft'\n",
    "baths = pd.DataFrame(df1[colname].value_counts())\n",
    "#print(type(baths))\n",
    "baths =baths.sort_index(ascending=False)\n",
    "for i in baths.index:\n",
    "    print(i)"
   ]
  },
  {
   "cell_type": "markdown",
   "metadata": {},
   "source": [
    "Данные очень грязные необходимо сделать предварительную обработку.\n",
    "Создадим функции по обработке данных в колонках."
   ]
  },
  {
   "cell_type": "code",
   "execution_count": null,
   "metadata": {},
   "outputs": [],
   "source": [
    "def replacebath(x):\n",
    "    x = str(x).upper()\n",
    "    х = str(x).strip()\n",
    "    x = x.replace(str('Bathrooms: ').upper() , '')\n",
    "    x = x.replace('+' , '')\n",
    "    x = x.replace(\"'\" , '')    \n",
    "    x = str(x).strip().split(' ')[0].split('-')[0].replace(',','.')\n",
    "    if str(x).isnumeric():\n",
    "        return int(x)\n",
    "    else:\n",
    "        return 0"
   ]
  },
  {
   "cell_type": "code",
   "execution_count": null,
   "metadata": {},
   "outputs": [],
   "source": [
    "df1['baths2'] = df1.apply(lambda x: replacebath(x['baths']), axis = 1)"
   ]
  },
  {
   "cell_type": "code",
   "execution_count": null,
   "metadata": {},
   "outputs": [],
   "source": [
    "def replacesqft(x):\n",
    "    x = str(x).upper()\n",
    "    х = str(x).strip()\n",
    "    x = x.replace(str('Total interior livable area:').upper() , '')\n",
    "    x = x.replace(',' , '')\n",
    "    x = x.replace('+' , '')\n",
    "    x = x.replace(\"'\" , '')\n",
    "    x = x.replace(str('sqft').upper() , '')\n",
    "       \n",
    "    x = str(x).strip()\n",
    "    return x"
   ]
  },
  {
   "cell_type": "code",
   "execution_count": null,
   "metadata": {},
   "outputs": [],
   "source": [
    "df1['sqft2'] = df1.apply(lambda x: replacesqft(x['sqft']), axis = 1)"
   ]
  },
  {
   "cell_type": "code",
   "execution_count": null,
   "metadata": {},
   "outputs": [],
   "source": [
    "def replacetarget(x):\n",
    "    x = str(x).upper()\n",
    "    х = str(x).strip()\n",
    "    x = x.replace('$' , '')\n",
    "    x = x.replace(',' , '')\n",
    "    x = x.replace('+' , '')\n",
    "    x = x.replace('/MO' , '')\n",
    "    x = x.replace(\"'\" , '')   \n",
    "    x = str(x).strip()\n",
    "    return x"
   ]
  },
  {
   "cell_type": "code",
   "execution_count": null,
   "metadata": {},
   "outputs": [],
   "source": [
    "df1['target2'] = df1.apply(lambda x: replacetarget(x['target']), axis = 1)"
   ]
  },
  {
   "cell_type": "code",
   "execution_count": null,
   "metadata": {},
   "outputs": [],
   "source": [
    "def replacestatus(x):\n",
    "    if x == np.nan:\n",
    "        return x\n",
    "    \n",
    "    x = str(x).upper()\n",
    "    х = str(x).strip()\n",
    "    if x == 'C':\n",
    "        x ='CONTINUE SHOW'\n",
    "        \n",
    "    x = x.replace('UNDER CONTRACT SHOW','UNDER CONTRACT - SHOW')\n",
    "    x = x.replace('UNDER CONTRACT   SHOWING','UNDER CONTRACT - SHOW')\n",
    "    x = x.replace('RE ACTIVATED','REACTIVATED')\n",
    "    x = x.replace('CONTINGENT   SHOW'     ,'CONTINGENT SHOW')\n",
    "    x = x.replace('/ AUCTION' , 'AUCTION')\n",
    "    x = x.replace('A ACTIVE' , 'ACTIVE')\n",
    "    x = x.replace('ACTIVE/CONTINGENT', 'ACTIVE CONTINGENT')\n",
    "    x = x.replace('C CONTINUE SHOW', 'CONTINUE SHOW')\n",
    "    x = x.replace('U UNDER CONTRACT', 'UNDER CONTRACT')\n",
    "    x = x.replace('P PENDING SALE', 'PENDING')\n",
    "    x = x.replace('NEW CONSTRUCTION','NEW')\n",
    "    x = x.replace('PENDING   CONTINUE TO SHOW', 'PENDING CONTINUE TO SHOW')\n",
    "    \n",
    "    x = x.replace(\"'\" , '')\n",
    "    х = str(x).strip()\n",
    "    \n",
    "    if x.find('COMING SOON') != -1 :\n",
    "           x = 'COMING SOON'\n",
    "\n",
    "    if x.find('SOLD') != -1 :\n",
    "           x = 'SOLD'\n",
    "             \n",
    "    x = str(x).strip()\n",
    "    return x"
   ]
  },
  {
   "cell_type": "code",
   "execution_count": null,
   "metadata": {},
   "outputs": [],
   "source": [
    "df1['status2'] = df1.apply(lambda x: replacestatus(x['status']), axis = 1)"
   ]
  },
  {
   "cell_type": "code",
   "execution_count": null,
   "metadata": {},
   "outputs": [],
   "source": [
    "def replaceProperty(x):\n",
    "    x = str(x).upper()\n",
    "    х = str(x).strip()\n",
    "    x = x.replace('SINGLE-FAMILY HOME','SINGLE FAMILY')\n",
    "    x = x.replace('SINGLE FAMILY HOME','SINGLE FAMILY')\n",
    "    x = x.replace('MULTI-FAMILY HOME','MULTI FAMILY')\n",
    "    x = x.replace('MULTI-FAMILY'     ,'MULTI FAMILY')\n",
    "    x = x.replace('SPLIT-LEVEL' , 'SPLIT LEVEL')\n",
    "    x = x.replace('OTHER - SEE REMARKS' , 'OTHER (SEE REMARKS)')\n",
    "    x = x.replace('OTHER STYLE' , 'OTHER')\n",
    "    x = x.replace('PATIO HOME' , 'PATIO')\n",
    "    x = x.replace('MOBILE / MANUFACTURED' , 'MOBILE/MANUFACTURED')\n",
    "    x = x.replace('MID-CENTURY MODERN'  , 'MID CENTURY MODERN')\n",
    "    x = x.replace('LOG HOME' , 'LOG')\n",
    "    x = x.replace('HISTORICAL' , 'HISTORIC')\n",
    "    x = x.replace('HIGH RISE' , 'HIGH-RISE')\n",
    "    x = x.replace('FARM HOUSE' , 'FARMHOUSE')\n",
    "    x = x.replace('BILEVEL' , 'BI-LEVEL')\n",
    "    x = x.replace('CARRIAGE HOUSE' , 'CARRIAGE')\n",
    "    x = x.replace('CUSTOM HOME' , 'CUSTOM')\n",
    "    x = x.replace(\"'\" , '') \n",
    "    х = str(x).strip()\n",
    "    return x #.split(',')[0]"
   ]
  },
  {
   "cell_type": "code",
   "execution_count": null,
   "metadata": {},
   "outputs": [],
   "source": [
    "df1['propertyType2'] = df1.apply(lambda x: replaceProperty(x['propertyType']), axis = 1)"
   ]
  },
  {
   "cell_type": "markdown",
   "metadata": {},
   "source": [
    "В колонке homeFacts храняться данные о  год постройки, паркинге, кухне, стоимости за квадратный фут (sqft), размере дома\n",
    "{'atAGlanceFacts':\n",
    "[{'factValue': '1961', 'factLabel': 'Year built'}, \n",
    " {'factValue': '1967', 'factLabel': 'Remodeled year'}, \n",
    " {'factValue': 'Forced Air', 'factLabel': 'Heating'}, \n",
    " {'factValue': 'Central', 'factLabel': 'Cooling'}, \n",
    " {'factValue': 'Attached Garage', 'factLabel': 'Parking'}, \n",
    " {'factValue': '8,626 sqft', 'factLabel': 'lotsize'}, \n",
    " {'factValue': '$965/sqft', 'factLabel': 'Price/sqft'}]}\n",
    "\n",
    "вынесем эти данные в новые колонки"
   ]
  },
  {
   "cell_type": "code",
   "execution_count": null,
   "metadata": {},
   "outputs": [],
   "source": [
    "def add_homeFacts(x):\n",
    "    ls1 =x.replace(\"{'atAGlanceFacts': [\", \"\").replace(']}','').replace(\"{'factValue':\",'').replace(\"'factLabel':\",'').split('}')\n",
    "    _l =[np.nan,np.nan,np.nan,np.nan,np.nan,np.nan,np.nan]\n",
    "    if len(ls1)>=7 :\n",
    "            _l[0]=ls1[0].split(',')[0] #Yearbuilt\n",
    "            _l[1]=ls1[1].split(',')[1]  # Remodeledyear\n",
    "            _l[2] = ls1[2].split(',')[1] # Heating\n",
    "            _l[3] = ls1[3].split(',')[1] # Cooling\n",
    "            _l[4] = ls1[4].split(',')[1] # Parking\n",
    "            _l[5] = ls1[5].split(',')[1].replace(\"sqft\",'') # lotsize\n",
    "            _l[6] = ls1[6].split(',')[1].replace(\"/sqft\",'').replace(\"$\",'').replace( '/ Sq. Ft.','') # Pricesqft\n",
    "    return _l"
   ]
  },
  {
   "cell_type": "code",
   "execution_count": null,
   "metadata": {},
   "outputs": [],
   "source": [
    "df1['Yearbuilt'] = df1.apply(lambda x: add_homeFacts(x['homeFacts'])[0], axis = 1)\n",
    "df1['Remodeledyear'] = df1.apply(lambda x: add_homeFacts(x['homeFacts'])[1], axis = 1)\n",
    "df1['Heating'] = df1.apply(lambda x: add_homeFacts(x['homeFacts'])[2], axis = 1)\n",
    "df1['Cooling'] = df1.apply(lambda x: add_homeFacts(x['homeFacts'])[3], axis = 1)\n",
    "df1['Parking'] = df1.apply(lambda x: add_homeFacts(x['homeFacts'])[4], axis = 1)\n",
    "df1['lotsize'] = df1.apply(lambda x: add_homeFacts(x['homeFacts'])[5], axis = 1)\n",
    "df1['Pricesqft'] = df1.apply(lambda x: add_homeFacts(x['homeFacts'])[6], axis = 1)"
   ]
  },
  {
   "cell_type": "code",
   "execution_count": null,
   "metadata": {},
   "outputs": [],
   "source": [
    "def replacePricesqft(x):\n",
    "    x = str(x).upper()\n",
    "    х = str(x).strip()\n",
    "    x = x.replace(str('/ Sq. Ft.').upper() , '')\n",
    "    x = x.replace(str('Sq. Ft.').upper() , '')\n",
    "    x = x.replace(str('lot').upper() , '')\n",
    "    x = x.replace(str('acres').upper() , '')\n",
    "    x = x.replace(str('-').upper() , '')\n",
    "    x = x.replace(str('Acres').upper() , '')\n",
    "    x = x.replace('+' , '')\n",
    "    x = x.replace(\"'\" , '') \n",
    "    x = x.replace(\" \" , '')\n",
    "    \n",
    "    x = str(x).strip()\n",
    "    if str(x).isnumeric():\n",
    "        return float(x)\n",
    "    else:\n",
    "        return 0"
   ]
  },
  {
   "cell_type": "code",
   "execution_count": null,
   "metadata": {},
   "outputs": [],
   "source": [
    "df1['Pricesqft2'] = df1.apply(lambda x: replacePricesqft(x['Pricesqft']), axis = 1)\n",
    "df1['lotsize'] = df1.apply(lambda x: replacePricesqft(x['lotsize']), axis = 1)"
   ]
  },
  {
   "cell_type": "code",
   "execution_count": null,
   "metadata": {},
   "outputs": [],
   "source": [
    "В колонке schools есть список школ с рейтингом, расстоянием до них и оценкой школы\n",
    "\"[{'rating': ['8/10', '4/10', '8/10'], 'data': {'Distance': ['1.19mi', '2.06mi', '2.63mi'], 'Grades': ['6-8', 'K-5', '9-12']}, 'name': ['Paul Revere Middle School', 'Brentwood Science School', 'Palisades Charter High School']}]\""
   ]
  },
  {
   "cell_type": "markdown",
   "metadata": {},
   "source": [
    "Для анализа школы возьмем данные по ближайшей. В качестве улучшения модели можно добавить среднее, общее количество."
   ]
  },
  {
   "cell_type": "code",
   "execution_count": null,
   "metadata": {},
   "outputs": [],
   "source": [
    "def add_schools(x):\n",
    "    _lsp= x.replace(' ','').replace(\"'rating':\",'|').replace(\"'data':\",'|').replace(\"'name':\",'|').replace('[{','').replace('}]','').split('|')\n",
    "    #print (_lsp)\n",
    "    _rating=_lsp[1].replace(']','').replace('[','').split(',')\n",
    "    _llsp2= _lsp[2].replace(\"'Distance':\",'|').replace(\"'Grades':\",'|').split('|')\n",
    "    _Distance = _llsp2[1].replace(']','').replace('[','').replace('mi','').replace(\"'\",'').split(',')\n",
    "    _Grades = _llsp2[2].replace(']}','').replace('[','').split(',')\n",
    "\n",
    "    _minDistance = 0.\n",
    "    _minrating = np.nan\n",
    "    _minGrades = 'NR'\n",
    "\n",
    "    for i in range(0,len(_Distance)):\n",
    "        #print (_Distance[i])\n",
    "        if _Distance[i] == '':\n",
    "            continue\n",
    "        \n",
    "        if _minDistance == 0:\n",
    "            _minDistance = float(_Distance[i])\n",
    "            _minrating = _rating[i]\n",
    "            if i <len(_Grades):\n",
    "                _minGrades = _Grades[i]\n",
    "            else:\n",
    "                _minGrades = 'NR'\n",
    "        \n",
    "        if float(_Distance[i]) < _minDistance:\n",
    "            _minDistance =float(_Distance[i])\n",
    "            _minrating = _rating[i]\n",
    "            if i <len(_Grades):\n",
    "                _minGrades = _Grades[i]\n",
    "            else:\n",
    "                _minGrades = 'NR'\n",
    "\n",
    "    return (_minrating,_minDistance,  _minGrades)   "
   ]
  },
  {
   "cell_type": "markdown",
   "metadata": {},
   "source": []
  },
  {
   "cell_type": "code",
   "execution_count": null,
   "metadata": {},
   "outputs": [],
   "source": [
    "df1['rating1'] = df1.apply(lambda x: add_schools(x['schools'])[0], axis = 1)\n",
    "df1['Distance1'] = df1.apply(lambda x: add_schools(x['schools'])[1], axis = 1)\n",
    "df1['Grades1'] = df1.apply(lambda x: add_schools(x['schools'])[2], axis = 1)"
   ]
  },
  {
   "cell_type": "code",
   "execution_count": null,
   "metadata": {},
   "outputs": [],
   "source": [
    "df1.target2.dropna(inplace=True)"
   ]
  },
  {
   "cell_type": "markdown",
   "metadata": {},
   "source": [
    "Сохраним в файл."
   ]
  },
  {
   "cell_type": "code",
   "execution_count": null,
   "metadata": {},
   "outputs": [],
   "source": [
    "df1.to_csv('data_all_small_3.csv')"
   ]
  }
 ],
 "metadata": {
  "kernelspec": {
   "display_name": "Python 3",
   "language": "python",
   "name": "python3"
  },
  "language_info": {
   "codemirror_mode": {
    "name": "ipython",
    "version": 3
   },
   "file_extension": ".py",
   "mimetype": "text/x-python",
   "name": "python",
   "nbconvert_exporter": "python",
   "pygments_lexer": "ipython3",
   "version": "3.7.6"
  }
 },
 "nbformat": 4,
 "nbformat_minor": 4
}
